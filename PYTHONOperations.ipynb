{
  "nbformat": 4,
  "nbformat_minor": 0,
  "metadata": {
    "colab": {
      "provenance": [],
      "include_colab_link": true
    },
    "kernelspec": {
      "name": "python3",
      "display_name": "Python 3"
    },
    "language_info": {
      "name": "python"
    }
  },
  "cells": [
    {
      "cell_type": "markdown",
      "metadata": {
        "id": "view-in-github",
        "colab_type": "text"
      },
      "source": [
        "<a href=\"https://colab.research.google.com/github/Karthiharaj/python_fundamental/blob/main/PYTHONOperations.ipynb\" target=\"_parent\"><img src=\"https://colab.research.google.com/assets/colab-badge.svg\" alt=\"Open In Colab\"/></a>"
      ]
    },
    {
      "cell_type": "markdown",
      "source": [
        "# Basic Operations in Python.\n",
        "\n"
      ],
      "metadata": {
        "id": "XYPp-wkuOWWz"
      }
    },
    {
      "cell_type": "markdown",
      "source": [
        "## **Arithmatic Operators**\n",
        "\n",
        "⚒ Play with numbers by changing numbers and running the cell."
      ],
      "metadata": {
        "id": "A360IrsWOnxZ"
      }
    },
    {
      "cell_type": "code",
      "execution_count": null,
      "metadata": {
        "colab": {
          "base_uri": "https://localhost:8080/"
        },
        "id": "fJr5Vu07ONem",
        "outputId": "07fea028-dc12-409d-bb07-0320dc0e711f"
      },
      "outputs": [
        {
          "output_type": "stream",
          "name": "stdout",
          "text": [
            "8\n"
          ]
        }
      ],
      "source": [
        "# Addition\n",
        "eight = 3+5 # 3+5 = 8\n",
        "\n",
        "print(eight)"
      ]
    },
    {
      "cell_type": "code",
      "source": [
        "# Subtraction\n",
        "\n",
        "two = 5-3 # 5-3 = 2\n",
        "\n",
        "print(two)"
      ],
      "metadata": {
        "colab": {
          "base_uri": "https://localhost:8080/"
        },
        "id": "yYypwWnFPE_M",
        "outputId": "0770a5d9-3505-44c5-ccad-d75be627e213"
      },
      "execution_count": null,
      "outputs": [
        {
          "output_type": "stream",
          "name": "stdout",
          "text": [
            "2\n"
          ]
        }
      ]
    },
    {
      "cell_type": "code",
      "source": [
        "# Multiplication\n",
        "\n",
        "ten = 5*2 # 5×2=10\n",
        "\n",
        "print(ten)"
      ],
      "metadata": {
        "colab": {
          "base_uri": "https://localhost:8080/"
        },
        "id": "GerU8dzwPNhC",
        "outputId": "0afe16ad-5a01-4ade-ae94-cf51ac636e98"
      },
      "execution_count": null,
      "outputs": [
        {
          "output_type": "stream",
          "name": "stdout",
          "text": [
            "10\n"
          ]
        }
      ]
    },
    {
      "cell_type": "code",
      "source": [
        "# Division (Quotient)\n",
        "\n",
        "four = 12/3 # 12÷3=4\n",
        "\n",
        "print(four)"
      ],
      "metadata": {
        "colab": {
          "base_uri": "https://localhost:8080/"
        },
        "id": "X6D9IZstPvHs",
        "outputId": "e986bec7-a99d-4920-b9c0-a8937a2d8563"
      },
      "execution_count": null,
      "outputs": [
        {
          "output_type": "stream",
          "name": "stdout",
          "text": [
            "4.0\n"
          ]
        }
      ]
    },
    {
      "cell_type": "code",
      "source": [
        "# Remainder in Division\n",
        "\n",
        "five = 17%6 # 17÷6= (12+5)÷6 =  2/5 [quotient/remainder]\n",
        "\n",
        "print(five)"
      ],
      "metadata": {
        "colab": {
          "base_uri": "https://localhost:8080/"
        },
        "id": "4NBB_LiwQElv",
        "outputId": "e212a9df-72aa-46b6-81e4-6af030239ece"
      },
      "execution_count": null,
      "outputs": [
        {
          "output_type": "stream",
          "name": "stdout",
          "text": [
            "5\n"
          ]
        }
      ]
    },
    {
      "cell_type": "code",
      "source": [
        "# Exponents\n",
        "\n",
        "nine = 3**2 # 3^2 = 3×3=9\n",
        "print(nine)"
      ],
      "metadata": {
        "colab": {
          "base_uri": "https://localhost:8080/"
        },
        "id": "sdl_8M88RN2r",
        "outputId": "943baa65-833e-4cd1-e924-5cf753c2169f"
      },
      "execution_count": null,
      "outputs": [
        {
          "output_type": "stream",
          "name": "stdout",
          "text": [
            "9\n"
          ]
        }
      ]
    },
    {
      "cell_type": "markdown",
      "source": [
        "### Exercise 01: Create an calculator which will take a number as input and returns it's square as output."
      ],
      "metadata": {
        "id": "xQhDY-1HWGhT"
      }
    },
    {
      "cell_type": "code",
      "source": [
        "def square_calc():\n",
        "  print(\"Welcome to the Square Calculator:\")\n",
        "  try:\n",
        "    number = float(input(\"enter the number: \"))\n",
        "    res= number **2\n",
        "    print(f\"the square of {number} is {res}\")\n",
        "\n",
        "  except ValueError:\n",
        "    print(\"Invalid input. Please enter a valid input.\")\n",
        "\n",
        "square_calc()"
      ],
      "metadata": {
        "id": "tbO_7I94WkEx",
        "colab": {
          "base_uri": "https://localhost:8080/"
        },
        "outputId": "24c33c4a-6103-4482-9916-9f17587b8be0"
      },
      "execution_count": null,
      "outputs": [
        {
          "output_type": "stream",
          "name": "stdout",
          "text": [
            "Welcome to the Square Calculator:\n",
            "enter the number: 4\n",
            "the square of 4.0 is 16.0\n"
          ]
        }
      ]
    },
    {
      "cell_type": "markdown",
      "source": [
        "### Exercise 02: Create an calculator which will take two numbers(one value and one rate) as input and returns the calculated percentage value as output.\n",
        "\n",
        "For example if two numbers 1000 & 20 are given as input, it'll return 200 as output, because 20% of 1000 is 200."
      ],
      "metadata": {
        "id": "Ac9F2mM3yES_"
      }
    },
    {
      "cell_type": "code",
      "source": [
        "def percentage_calc():\n",
        "   print(\"Welcome to the Percentage Calculator:\")\n",
        "   try:\n",
        "    number1=float(input(\"Enter no1: \"))\n",
        "    number2=float(input(\"Enter no2:\"))\n",
        "    #res=number1 number2\n",
        "    res=(number1*number2)/100\n",
        "    print(f\"percentage value of {number1} and {number2} is {res}\")\n",
        "   except ValueError:\n",
        "    print(\"Invalid input. Please enter a valid input.\")\n",
        "\n",
        "percentage_calc()"
      ],
      "metadata": {
        "id": "pqdpx0dcyHKC",
        "colab": {
          "base_uri": "https://localhost:8080/"
        },
        "outputId": "bf872d51-b807-47d4-8b6c-b92f94a337d9"
      },
      "execution_count": null,
      "outputs": [
        {
          "output_type": "stream",
          "name": "stdout",
          "text": [
            "Welcome to the Percentage Calculator:\n",
            "Enter no1: 1000\n",
            "Enter no2:20\n",
            "percentage value of 1000.0 and 20.0 is 200.0\n"
          ]
        }
      ]
    },
    {
      "cell_type": "markdown",
      "source": [
        "\n",
        "\n",
        "---\n",
        "\n",
        "## Using Operators with Strings"
      ],
      "metadata": {
        "id": "IyGDfW68SneK"
      }
    },
    {
      "cell_type": "code",
      "source": [
        "#Concatenation (adding up)\n",
        "\n",
        "helloworld = \"hello\" + \" \" + \"world\" # \"hello world\"\n",
        "\n",
        "print(helloworld)"
      ],
      "metadata": {
        "colab": {
          "base_uri": "https://localhost:8080/"
        },
        "id": "1EQBGq8bS3Im",
        "outputId": "c6c3671a-05b7-4123-8a10-2c9f44e8730b"
      },
      "execution_count": null,
      "outputs": [
        {
          "output_type": "stream",
          "name": "stdout",
          "text": [
            "hello world\n"
          ]
        }
      ]
    },
    {
      "cell_type": "code",
      "source": [
        "# Repeatation\n",
        "\n",
        "lotsofhellos = \"hello\\n\" * 10 # \\n equates to new line.\n",
        "\n",
        "print(lotsofhellos)"
      ],
      "metadata": {
        "colab": {
          "base_uri": "https://localhost:8080/"
        },
        "id": "RjCeU_oRTgFj",
        "outputId": "755d590c-9040-4a76-d68d-f47605d3924f"
      },
      "execution_count": null,
      "outputs": [
        {
          "output_type": "stream",
          "name": "stdout",
          "text": [
            "hello\n",
            "hello\n",
            "hello\n",
            "hello\n",
            "hello\n",
            "hello\n",
            "hello\n",
            "hello\n",
            "hello\n",
            "hello\n",
            "\n"
          ]
        }
      ]
    },
    {
      "cell_type": "markdown",
      "source": [
        "\n",
        "\n",
        "---\n",
        "\n",
        "## Using Operators with Lists"
      ],
      "metadata": {
        "id": "-Di8L9U4US21"
      }
    },
    {
      "cell_type": "code",
      "source": [
        "# Joining list items together.\n",
        "\n",
        "even_numbers = [2,4,6,8]\n",
        "odd_numbers = [1,3,5,7]\n",
        "all_numbers = odd_numbers + even_numbers\n",
        "\n",
        "print(all_numbers)"
      ],
      "metadata": {
        "colab": {
          "base_uri": "https://localhost:8080/"
        },
        "id": "fI8zFIgpU7Co",
        "outputId": "91dbee5b-9e59-4bf5-d9d7-0b10547a45ef"
      },
      "execution_count": null,
      "outputs": [
        {
          "output_type": "stream",
          "name": "stdout",
          "text": [
            "[1, 3, 5, 7, 2, 4, 6, 8]\n"
          ]
        }
      ]
    },
    {
      "cell_type": "code",
      "source": [
        "# Repeatation\n",
        "\n",
        "print([1,2,3] * 3)"
      ],
      "metadata": {
        "colab": {
          "base_uri": "https://localhost:8080/"
        },
        "id": "KrsthAlTVd1i",
        "outputId": "1feb9edd-3838-4fe7-9f31-16d0169bcd53"
      },
      "execution_count": null,
      "outputs": [
        {
          "output_type": "stream",
          "name": "stdout",
          "text": [
            "[1, 2, 3, 1, 2, 3, 1, 2, 3]\n"
          ]
        }
      ]
    },
    {
      "cell_type": "markdown",
      "source": [
        "### Exercise 03: Create a todo app that'll take a task as input and print all the task that were added before.\n",
        "\n",
        "Hint:\n",
        "* Create a list with few tasks.\n",
        "* Ask for new tasks using **input** function.\n",
        "* Use **append** function to add new task to the list of todo. (In case you're unaware what append function is \"Just Google it!\")"
      ],
      "metadata": {
        "id": "NMIPAMijWrnE"
      }
    },
    {
      "cell_type": "code",
      "source": [
        "# Start Coding here...\n",
        "def todolist():\n",
        "  print(\"Welcome to todo app\")\n",
        "  print(\"TODO menu\")\n",
        "  print(\"1. Add a task\")\n",
        "  print(\"2. View tasks\")\n",
        "  print(\"3. Exit\")\n",
        "  todo_list = []\n",
        "  while True:\n",
        "    choice = input(\"Enter your choice(1/2/3):\")\n",
        "    if choice ==\"1\":\n",
        "      task=input(\"Enter a task: \")\n",
        "      todo_list.append(task)\n",
        "    elif choice ==\"2\":\n",
        "      print(todo_list)\n",
        "    elif choice ==\"3\":\n",
        "      print(\"Exit TODO app\")\n",
        "      break\n",
        "    else:\n",
        "      print(\"Invalid choice. Please try again.\")\n",
        "\n",
        "todolist()"
      ],
      "metadata": {
        "id": "ZqFpgGZsXYnj",
        "colab": {
          "base_uri": "https://localhost:8080/"
        },
        "outputId": "ddcf38a4-a66d-4709-ccf9-d5d7565de5f4"
      },
      "execution_count": 3,
      "outputs": [
        {
          "output_type": "stream",
          "name": "stdout",
          "text": [
            "Welcome to todo app\n",
            "TODO menu\n",
            "1. Add a task\n",
            "2. View tasks\n",
            "3. Exit\n",
            "Enter your choice(1/2/3):3\n",
            "Exit TODO app\n"
          ]
        }
      ]
    },
    {
      "cell_type": "markdown",
      "source": [
        "---\n",
        "## Boolean operators"
      ],
      "metadata": {
        "id": "C12VCNm8uy6K"
      }
    },
    {
      "cell_type": "code",
      "source": [
        "# Boolean Conditionals\n",
        "\n",
        "x = 2\n",
        "if x == 2:\n",
        "    print(\"x equals two!\")\n",
        "else:\n",
        "    print(\"x does not equal to two.\")"
      ],
      "metadata": {
        "id": "TBoeljWQ3N5E"
      },
      "execution_count": null,
      "outputs": []
    },
    {
      "cell_type": "markdown",
      "source": [
        "### Exercise 04: Create an calculator which will take two numbers and one operations such as plus(+), minus (-), into(×), by(÷), remainder(/*), power(^), percentage (%) as input and returns the calculated value as output.\n",
        "\n",
        "Hint: Use **elif** conditionals where more than two case is required."
      ],
      "metadata": {
        "id": "Zc1GS7FgzRP5"
      }
    },
    {
      "cell_type": "code",
      "source": [
        "def calculator():\n",
        "    print(\"Welcome to the Calculator:\")\n",
        "    try:\n",
        "      number1=float(input(\"Enter no1: \"))\n",
        "      number2=float(input(\"Enter no2:\"))\n",
        "      operator=input(\"Enter operation(+, -, ×, ÷, /*, ^, %): \")\n",
        "      if operator ==\"+\":\n",
        "        res=number1+number2\n",
        "        print(f\"the result of {number1} {operator} {number2} is {res}\")\n",
        "      elif operator ==\"-\":\n",
        "        res=number1-number2\n",
        "        print(f\"the result of {number1} {operator} {number2} is {res}\")\n",
        "      elif operator ==\"*\":\n",
        "        res=number1*number2\n",
        "        print(f\"the result of {number1} {operator} {number2} is {res}\")\n",
        "      elif operator ==\"/\":\n",
        "        if number2==0:\n",
        "          print(\"Division by zero is not allowed.\")\n",
        "        else:\n",
        "          res=number1/number2\n",
        "        print(f\"the result of {number1} {operator} {number2} is {res}\")\n",
        "      elif operator ==\"/*\":\n",
        "        res = number1 % number2\n",
        "        print(f\"the result of {number1} {operator} {number2} is {res}\")\n",
        "      elif operator ==\"%\":\n",
        "        res= (number1 * number2) / 100\n",
        "        print(f\"the result of {number1} {operator} {number2} is {res}\")\n",
        "      elif operator ==\"^\":\n",
        "        res=number1**number2\n",
        "        print(f\"the result of {number1} {operator} {number2} is {res}\")\n",
        "      else:\n",
        "        print(\"Invalid operation! Please enter a valid operation.\")\n",
        "    except ValueError:\n",
        "        print(\"Invalid input! Please enter valid numeric values.\")\n",
        "\n",
        "calculator()"
      ],
      "metadata": {
        "id": "aNjj7e_IzjIk",
        "colab": {
          "base_uri": "https://localhost:8080/"
        },
        "outputId": "7486d89d-257e-4d74-bc65-f8ae1d1fb5aa"
      },
      "execution_count": null,
      "outputs": [
        {
          "output_type": "stream",
          "name": "stdout",
          "text": [
            "Welcome to the Calculator:\n",
            "Enter no1: 60\n",
            "Enter no2:10\n",
            "Enter operation(+, -, ×, ÷, /*, ^, %): /*\n",
            "the result of 60.0 /* 10.0 is 0.0\n"
          ]
        }
      ]
    },
    {
      "cell_type": "markdown",
      "source": [
        "## Loop Operators"
      ],
      "metadata": {
        "id": "H0MbRMTYCVpy"
      }
    },
    {
      "cell_type": "markdown",
      "source": [
        "### **For Loop**"
      ],
      "metadata": {
        "id": "PS9RqCXlCfK8"
      }
    },
    {
      "cell_type": "code",
      "source": [
        "## Print all the prime numbers upto 10 hardcoded.\n",
        "\n",
        "primes = [2, 3, 5, 7]\n",
        "for prime in primes:\n",
        "    print(prime)"
      ],
      "metadata": {
        "id": "xYpm4An8CrG6"
      },
      "execution_count": null,
      "outputs": []
    },
    {
      "cell_type": "code",
      "source": [
        "## Using range functions in a for loop\n",
        "\n",
        "for x in range(3, 6):\n",
        "    print(x) # Prints out 3,4,5"
      ],
      "metadata": {
        "id": "x_cyfbZrD112"
      },
      "execution_count": null,
      "outputs": []
    },
    {
      "cell_type": "markdown",
      "source": [
        "### **While Loop**"
      ],
      "metadata": {
        "id": "F7ZrWNpKCjlq"
      }
    },
    {
      "cell_type": "code",
      "source": [
        "count=0\n",
        "while(count<5):\n",
        "    print(f\"Count value is {count}\")\n",
        "    count +=1\n",
        "else:\n",
        "    print(f\"Count value reached {count}\")"
      ],
      "metadata": {
        "colab": {
          "base_uri": "https://localhost:8080/"
        },
        "id": "LB1Cs0z1Ff50",
        "outputId": "79725b84-2dd2-4286-a495-7ee40397b49a"
      },
      "execution_count": null,
      "outputs": [
        {
          "output_type": "stream",
          "name": "stdout",
          "text": [
            "Count value is 0\n",
            "Count value is 1\n",
            "Count value is 2\n",
            "Count value is 3\n",
            "Count value is 4\n",
            "Count value reached 5\n"
          ]
        }
      ]
    },
    {
      "cell_type": "markdown",
      "source": [
        "### Exercise 05: Print all the numbers from 0 to 100 which are divisible by 3 by using any loop operator."
      ],
      "metadata": {
        "id": "Yz5S3iI2Glfn"
      }
    },
    {
      "cell_type": "code",
      "source": [
        "## Start coding...\n",
        "for i in range(0, 100):\n",
        "  if i % 3 == 0:\n",
        "    print(i)\n",
        "\n"
      ],
      "metadata": {
        "id": "UNR4SoW_HIiV",
        "colab": {
          "base_uri": "https://localhost:8080/"
        },
        "outputId": "23c4b41b-e22e-4ad3-c0fa-2bbbd61b2f3b"
      },
      "execution_count": 4,
      "outputs": [
        {
          "output_type": "stream",
          "name": "stdout",
          "text": [
            "0\n",
            "3\n",
            "6\n",
            "9\n",
            "12\n",
            "15\n",
            "18\n",
            "21\n",
            "24\n",
            "27\n",
            "30\n",
            "33\n",
            "36\n",
            "39\n",
            "42\n",
            "45\n",
            "48\n",
            "51\n",
            "54\n",
            "57\n",
            "60\n",
            "63\n",
            "66\n",
            "69\n",
            "72\n",
            "75\n",
            "78\n",
            "81\n",
            "84\n",
            "87\n",
            "90\n",
            "93\n",
            "96\n",
            "99\n"
          ]
        }
      ]
    }
  ]
}