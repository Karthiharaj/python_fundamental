{
  "cells": [
    {
      "cell_type": "markdown",
      "metadata": {
        "id": "view-in-github",
        "colab_type": "text"
      },
      "source": [
        "<a href=\"https://colab.research.google.com/github/Karthiharaj/python_fundamental/blob/main/python_fundamentals_day1_list.ipynb\" target=\"_parent\"><img src=\"https://colab.research.google.com/assets/colab-badge.svg\" alt=\"Open In Colab\"/></a>"
      ]
    },
    {
      "cell_type": "code",
      "execution_count": null,
      "metadata": {
        "id": "r6OSCkcIPKnN"
      },
      "outputs": [],
      "source": [
        "# hello world"
      ]
    },
    {
      "cell_type": "code",
      "execution_count": null,
      "metadata": {
        "id": "UG7XL-KNrvLu"
      },
      "outputs": [],
      "source": [
        "# data types\n",
        "#int\n",
        "#float\n",
        "#string\n",
        "#list\n",
        "#tuple\n",
        "#set\n",
        "#dictionary"
      ]
    },
    {
      "cell_type": "code",
      "execution_count": null,
      "metadata": {
        "id": "n3d9NtDprvIa"
      },
      "outputs": [],
      "source": [
        "#import"
      ]
    },
    {
      "cell_type": "code",
      "execution_count": null,
      "metadata": {
        "id": "ygoGXO5tw3HC",
        "colab": {
          "base_uri": "https://localhost:8080/"
        },
        "outputId": "b92f3105-4b10-484e-f932-1655ca3d74bb"
      },
      "outputs": [
        {
          "output_type": "stream",
          "name": "stdout",
          "text": [
            "5\n",
            "6\n",
            "7\n"
          ]
        }
      ],
      "source": [
        "for i in range(5,8):\n",
        "  print(i)"
      ]
    },
    {
      "cell_type": "markdown",
      "metadata": {
        "id": "aQ94C2cRs9ob"
      },
      "source": [
        "#List#\n",
        "### append, extend, remove, pop, index, split, count\n"
      ]
    },
    {
      "cell_type": "code",
      "execution_count": null,
      "metadata": {
        "colab": {
          "base_uri": "https://localhost:8080/"
        },
        "id": "IDOVGypErvC7",
        "outputId": "3bb0801f-d1ab-4715-e1df-4211f2d5c9b6"
      },
      "outputs": [
        {
          "name": "stdout",
          "output_type": "stream",
          "text": [
            "1\n",
            "2\n",
            "6\n",
            "24\n",
            "120\n"
          ]
        }
      ],
      "source": [
        "#2 Multiply all the items in a list\n",
        "list1 = [1,2,3,4,5]\n",
        "res=1\n",
        "for val in list1:\n",
        "  res=res*val\n",
        "  print(res)\n"
      ]
    },
    {
      "cell_type": "code",
      "execution_count": null,
      "metadata": {
        "colab": {
          "base_uri": "https://localhost:8080/"
        },
        "id": "y1j3dLdRxPc4",
        "outputId": "84c5f27e-241e-4d7f-e51c-8ad439fdac04"
      },
      "outputs": [
        {
          "name": "stdout",
          "output_type": "stream",
          "text": [
            "[1]\n",
            "[1, 2]\n",
            "[1, 2, 3]\n",
            "[1, 2, 3, 4]\n",
            "[1, 2, 3, 4, 5]\n",
            "[1, 2, 3, 4, 5, 6]\n",
            "[1, 2, 3, 4, 5, 6, 7]\n",
            "[1, 2, 3, 4, 5, 6, 7, 8]\n",
            "[1, 2, 3, 4, 5, 6, 7, 8, 9]\n"
          ]
        }
      ],
      "source": [
        "list1  = []\n",
        "\n",
        "for i in range(1,10):\n",
        "  list1.append(i)\n",
        "  print(list1)"
      ]
    },
    {
      "cell_type": "code",
      "execution_count": null,
      "metadata": {
        "colab": {
          "base_uri": "https://localhost:8080/"
        },
        "id": "RNn6tZZvrvFY",
        "outputId": "29ebbdfb-dae4-4d53-a241-d61466bddca2"
      },
      "outputs": [
        {
          "output_type": "stream",
          "name": "stdout",
          "text": [
            "-5\n"
          ]
        }
      ],
      "source": [
        "#1 Sum all the items in a list\n",
        "list1 = [1,2,-8]\n",
        "print(sum(list1))"
      ]
    },
    {
      "cell_type": "code",
      "execution_count": null,
      "metadata": {
        "colab": {
          "base_uri": "https://localhost:8080/"
        },
        "id": "4zmjHqvNrvAZ",
        "outputId": "9db4a8eb-e756-47ae-f72b-bfb0865edfd7"
      },
      "outputs": [
        {
          "name": "stdout",
          "output_type": "stream",
          "text": [
            "80\n",
            "-8\n"
          ]
        }
      ],
      "source": [
        "#3 largest number in the list\n",
        "list1 = [1, 2, -8, 0, 80]\n",
        "print(max(list1))\n",
        "print(min(list1))"
      ]
    },
    {
      "cell_type": "code",
      "execution_count": null,
      "metadata": {
        "colab": {
          "base_uri": "https://localhost:8080/"
        },
        "id": "nvVBdT27ru96",
        "outputId": "6cc06b9f-d74e-43ef-9b5e-6bd9e2298368"
      },
      "outputs": [
        {
          "name": "stdout",
          "output_type": "stream",
          "text": [
            "-8\n"
          ]
        }
      ],
      "source": [
        "# 4. Write a Python program to get the smallest number from a list.\n",
        "list1 = [1, 2, -8, 0, 80]\n",
        "print(min(list1))"
      ]
    },
    {
      "cell_type": "code",
      "execution_count": null,
      "metadata": {
        "colab": {
          "base_uri": "https://localhost:8080/"
        },
        "id": "d8nnhoZAru7Z",
        "outputId": "a8b1335f-7881-4e3c-ba57-ef7a7a3ec883"
      },
      "outputs": [
        {
          "output_type": "stream",
          "name": "stdout",
          "text": [
            "Number of strings where the first and last characters are the same: 2\n"
          ]
        }
      ],
      "source": [
        "''' try\n",
        "5. Write a Python program to count the number of strings where the string length is 2 or more and the first and last character are same from a given list of strings. Go to the editor\n",
        "Sample List : ['abc', 'xyz', 'aba', '1221']\n",
        "Expected Result : 2\n",
        "\n",
        "'''\n",
        "def count_strings(lst):\n",
        "    count = 0\n",
        "    for length in lst:\n",
        "        if len(length) >= 2 and length[0] == length[-1]:\n",
        "            count += 1\n",
        "    return count\n",
        "lst = ['abc', 'xyz', 'aba', '1221']\n",
        "result = count_strings(lst)\n",
        "print(\"Number of strings where the first and last characters are the same:\", result)"
      ]
    },
    {
      "cell_type": "code",
      "execution_count": null,
      "metadata": {
        "id": "DpoTq0Tiru4k",
        "colab": {
          "base_uri": "https://localhost:8080/"
        },
        "outputId": "8866e3d2-d6bb-4bfe-d03c-d74538399c94"
      },
      "outputs": [
        {
          "output_type": "stream",
          "name": "stdout",
          "text": [
            "[(2, 5), (1, 2), (4, 4), (2, 3), (2, 1)]\n",
            "[(2, 1), (1, 2), (2, 3), (4, 4), (2, 5)]\n"
          ]
        }
      ],
      "source": [
        "''' try\n",
        "6. Write a Python program to get a list, sorted in increasing order by the last element in each tuple from a given list of non-empty tuples. Go to the editor\n",
        "Sample List : [(2, 5), (1, 2), (4, 4), (2, 3), (2, 1)]\n",
        "Expected Result : [(2, 1), (1, 2), (2, 3), (4, 4), (2, 5)]\n",
        "\n",
        "'''\n",
        "list_unsort=[(2, 5), (1, 2), (4, 4), (2, 3), (2, 1)]\n",
        "print(list_unsort)\n",
        "\n",
        "def srt_lsr_ele_tuple(tuple_list):\n",
        "  return sorted(tuple_list, key= lambda x: x[-1])\n",
        "res=srt_lsr_ele_tuple(list_unsort)\n",
        "print(res)\n"
      ]
    },
    {
      "cell_type": "code",
      "execution_count": null,
      "metadata": {
        "colab": {
          "base_uri": "https://localhost:8080/"
        },
        "id": "1fyx_MP0ru2X",
        "outputId": "cb62f943-fbb9-4094-bee3-4da28a5775ea"
      },
      "outputs": [
        {
          "name": "stdout",
          "output_type": "stream",
          "text": [
            "{100, 40, 10, 80, 50, 20, 60, 30}\n"
          ]
        }
      ],
      "source": [
        "# 7 to remove duplicates\n",
        "\n",
        "a = [100,20,30,20,10,50,60,40,80,50,40,80,50]\n",
        "duplicates = set(a)\n",
        "print(duplicates)"
      ]
    },
    {
      "cell_type": "code",
      "execution_count": null,
      "metadata": {
        "colab": {
          "background_save": true,
          "base_uri": "https://localhost:8080/"
        },
        "id": "N26M51wbruze",
        "outputId": "e2968019-b5d3-4079-947a-9b32d1dc4e44"
      },
      "outputs": [
        {
          "name": "stdout",
          "output_type": "stream",
          "text": [
            "empty\n"
          ]
        }
      ],
      "source": [
        "# 8 check if a list is emmpty\n",
        "\n",
        "a = []\n",
        "if a != []:\n",
        "  print(\"not empty\")\n",
        "else:\n",
        "  print(\"empty\")"
      ]
    },
    {
      "cell_type": "code",
      "execution_count": null,
      "metadata": {
        "id": "PegBmxHGruxG",
        "colab": {
          "base_uri": "https://localhost:8080/"
        },
        "outputId": "c779a816-ef17-4f3c-ae1f-e1cbec9cf7bb"
      },
      "outputs": [
        {
          "output_type": "stream",
          "name": "stdout",
          "text": [
            "enter the minimum word length number: 4\n",
            "List of Words longer than 4 characters is: ['quick', 'brown', 'jumps']\n"
          ]
        }
      ],
      "source": [
        "''' try\n",
        "9 \"The quick brown fox jumps over the lazy dog\"\n",
        "Find the list of words that are longer than the given number dynamically\n",
        "'''\n",
        "a=\"The quick brown fox jumps over the lazy dog\"\n",
        "'''\n",
        "def longword(sentence, length):\n",
        "  words=sentence.split()\n",
        "  result = [wo for wo in words if len(wo) > length]\n",
        "  return result\n",
        "\n",
        "sentence = \"The quick brown fox jumps over the lazy dog\"\n",
        "length = int(input(\"enter the minimum word length number: \"))\n",
        "\n",
        "res=longword(sentence, length)\n",
        "print(f\"List of Words longer than {length} characters is: {res}\")\n",
        "\n",
        "'''\n",
        "a = \"The quick brown fox jumps over the lazy dog\"\n",
        "b = int(input(\"enter the minimum word length number: \"))\n",
        "\n",
        "def longword(a,b):\n",
        "  c=a.split()\n",
        "  for w in c:\n",
        "    if len(w) > b: return res\n",
        "res=longword(a,b)\n",
        "print(f\"List of Words longer than {b} characters is: {res}\")\n",
        "\n",
        "\n"
      ]
    },
    {
      "cell_type": "code",
      "execution_count": null,
      "metadata": {
        "id": "lUcFpNiTruuc",
        "colab": {
          "base_uri": "https://localhost:8080/"
        },
        "outputId": "6c5ed4ad-dcca-44ad-e157-b5f89cf63f8e"
      },
      "outputs": [
        {
          "output_type": "stream",
          "name": "stdout",
          "text": [
            "['karan', 'chennai']\n"
          ]
        }
      ],
      "source": [
        "#10 split on 1\n",
        "dummy_list = \"karan1chennai\"\n",
        "b = dummy_list.split(\"1\")\n",
        "print(b)"
      ]
    },
    {
      "cell_type": "code",
      "execution_count": null,
      "metadata": {
        "id": "Tn4s9tGDwso2",
        "colab": {
          "base_uri": "https://localhost:8080/"
        },
        "outputId": "b7ce69ab-bd83-4aa2-9ae1-9ab279d8fe65"
      },
      "outputs": [
        {
          "output_type": "stream",
          "name": "stdout",
          "text": [
            "True\n"
          ]
        }
      ],
      "source": [
        "'''\n",
        "11) Write a Python function that takes two lists and returns True if they have at least one common member.'''\n",
        "\n",
        "l1 = [1,2,3,4,5,5]\n",
        "l2 = [5,6,7,8,9]\n",
        "\n",
        "def common_mem(list1, list2):\n",
        "  return(bool(set(list1) & set(list2)))\n",
        "\n",
        "res = common_mem(l1, l2)\n",
        "print(res)"
      ]
    },
    {
      "cell_type": "code",
      "execution_count": null,
      "metadata": {
        "colab": {
          "base_uri": "https://localhost:8080/"
        },
        "id": "dP7jXHgi0VAQ",
        "outputId": "39500f0f-f086-47fe-9013-41391b8e2115"
      },
      "outputs": [
        {
          "name": "stdout",
          "output_type": "stream",
          "text": [
            "list1 after appending  [1, 2, 3, 0, ['Red', 'Green', 'Black']]\n",
            "['Red', 'Green', 'Black']\n",
            "list1 after extending  [1, 2, 3, 0, 'Red', 'Green', 'Black']\n",
            "Red\n"
          ]
        }
      ],
      "source": [
        "'''\n",
        "12) Write a Python program to extend a list to the second list.\n",
        "\n",
        "list1 = [1, 2, 3, 0]\n",
        "list2 = ['Red', 'Green', 'Black']\n",
        "'''\n",
        "\n",
        "list1 = [1, 2, 3, 0]\n",
        "list2 = ['Red', 'Green', 'Black']\n",
        "\n",
        "list1.append(list2)\n",
        "print(\"list1 after appending \", list1 )\n",
        "print(list1[4])\n",
        "list1 = [1, 2, 3, 0]\n",
        "list2 = ['Red', 'Green', 'Black']\n",
        "list1.extend(list2)\n",
        "print(\"list1 after extending \", list1 )\n",
        "print(list1[4])"
      ]
    },
    {
      "cell_type": "markdown",
      "metadata": {
        "id": "m3lXOnkG0V82"
      },
      "source": [
        "append(): Adds a single element to the end of the list. In this case, [1, 2, 3, 0] is added as a single element, so the list becomes [1, 2, 3, 0, ['Red', 'Green', 'Black']].\n",
        "extend(): Adds each individual element from the given iterable (in this case, another list) to the original list. After extending, the list becomes [1, 2, 3, 0, 'Red', 'Green', 'Black']"
      ]
    },
    {
      "cell_type": "code",
      "execution_count": null,
      "metadata": {
        "id": "mMLC-dyH1Tvn",
        "colab": {
          "base_uri": "https://localhost:8080/"
        },
        "outputId": "63d08bf0-1f33-4f0a-b8e8-ce3a17b12140"
      },
      "outputs": [
        {
          "output_type": "stream",
          "name": "stdout",
          "text": [
            "{2, 3, 4, 5, 6, 8, 9}\n"
          ]
        }
      ],
      "source": [
        "''' try\n",
        "Write a Python program to get the not common items between the two lists.'\n",
        "\n",
        "list1 = [1, 3, 5, 7, 9]\n",
        "list2=  [1, 2, 4, 6, 7, 8]\n",
        "\n",
        "expected_output = [3,5,9,2, 4,6,8]\n",
        "'''\n",
        "l1 = [1, 3, 5, 7, 9]\n",
        "l2 =  [1, 2, 4, 6, 7, 8]\n",
        "\n",
        "def notcommon(a,b):\n",
        " return set(a)  ^ set(b)\n",
        "\n",
        "a=notcommon(l1, l2)\n",
        "#a= set(l1)^set(l2)\n",
        "#a = list(l1)!=list(l2)\n",
        "print(a)"
      ]
    },
    {
      "cell_type": "code",
      "execution_count": 7,
      "metadata": {
        "id": "Vkj_ELAn1nQo",
        "colab": {
          "base_uri": "https://localhost:8080/"
        },
        "outputId": "6166cf46-972b-4127-bb29-5092cd197f95"
      },
      "outputs": [
        {
          "output_type": "stream",
          "name": "stdout",
          "text": [
            "unique item: [1, 2, 5]\n"
          ]
        }
      ],
      "source": [
        "'''\n",
        "find unique items in the list\n",
        "hint = use set\n",
        "'''\n",
        "'''my_list = [10, 20, 30, 40, 20, 50, 60, 40]\n",
        "from collections import Counter\n",
        "counter = Counter(my_list)\n",
        "unique_items = [item for item, count in counter.items() if count == 1]\n",
        "print(\"Unique items:\", unique_items)\n",
        "'''\n",
        "'''\n",
        "my_list = [1, 2, 2, 3, 4, 5, 5, 6]\n",
        "unique_items = []\n",
        "for item in my_list:\n",
        "  if my_list.count(item) == 1:\n",
        "      unique_items.append(item)\n",
        "print(\"Unique items:\", unique_items)\n",
        "'''\n",
        "a=[1,2,3,3,4,4,5]\n",
        "uitem = []\n",
        "for i in a:\n",
        "  if a.count(i)==1:\n",
        "    uitem.append(i)\n",
        "print(\"unique item:\", uitem)\n"
      ]
    },
    {
      "cell_type": "code",
      "source": [],
      "metadata": {
        "id": "ZghOPNONNHMi"
      },
      "execution_count": null,
      "outputs": []
    },
    {
      "cell_type": "code",
      "execution_count": 35,
      "metadata": {
        "id": "As1ycvjw1z-b",
        "colab": {
          "base_uri": "https://localhost:8080/"
        },
        "outputId": "c826e972-a3bd-4a26-add4-4b5bce3b4ebd"
      },
      "outputs": [
        {
          "output_type": "stream",
          "name": "stdout",
          "text": [
            "7\n"
          ]
        }
      ],
      "source": [
        "''' try\n",
        "count the number of elements within the range\n",
        "list1 = [10,20,30,40,40,40,70,70,80,99]\n",
        "#(list1, 40, 100))'''\n",
        "l=[10,20,30,40,40,40,70,70,80,99]\n",
        "lowerrange=40\n",
        "highrange=100\n",
        "count=[]\n",
        "for x in l:\n",
        "  if lowerrange <= x <= highrange:\n",
        "    count.append(x)\n",
        "print(len(count))\n"
      ]
    },
    {
      "cell_type": "code",
      "execution_count": 39,
      "metadata": {
        "id": "1Yz52tSa2Bef",
        "colab": {
          "base_uri": "https://localhost:8080/"
        },
        "outputId": "798a0edf-3e12-44fa-c691-513f025c1a6d"
      },
      "outputs": [
        {
          "output_type": "stream",
          "name": "stdout",
          "text": [
            "{'White', 'Green'}\n"
          ]
        }
      ],
      "source": [
        "''' 13)\n",
        "Write a Python program to find common items in two lists.\n",
        "color1 = \"Red\", \"Green\", \"Orange\", \"White\"\n",
        "color2 = \"Black\", \"Green\", \"White\", \"Pink\"\n",
        "'''\n",
        "c1=(\"Red\", \"Green\", \"Orange\", \"White\")\n",
        "c2 =(\"Black\", \"Green\", \"White\", \"Pink\")\n",
        "c3 = set(c1) & set(c2)\n",
        "print(c3)"
      ]
    },
    {
      "cell_type": "code",
      "execution_count": 40,
      "metadata": {
        "id": "ycgcZGWP2WZm",
        "colab": {
          "base_uri": "https://localhost:8080/"
        },
        "outputId": "4b14531a-85af-4a27-e1a4-5e6cbe8e53a4"
      },
      "outputs": [
        {
          "output_type": "stream",
          "name": "stdout",
          "text": [
            "2\n"
          ]
        }
      ],
      "source": [
        "list1 = [10,10,20,30,40]\n",
        "print(list1.count(10))"
      ]
    },
    {
      "cell_type": "code",
      "execution_count": 53,
      "metadata": {
        "id": "1YDz0r203Cha",
        "colab": {
          "base_uri": "https://localhost:8080/",
          "height": 111
        },
        "outputId": "71259650-31c4-4b2d-89c1-923b69ccf75d"
      },
      "outputs": [
        {
          "output_type": "error",
          "ename": "SyntaxError",
          "evalue": "did you forget parentheses around the comprehension target? (<ipython-input-53-7c00ed47922b>, line 8)",
          "traceback": [
            "\u001b[0;36m  File \u001b[0;32m\"<ipython-input-53-7c00ed47922b>\"\u001b[0;36m, line \u001b[0;32m8\u001b[0m\n\u001b[0;31m    return[insertE, i for i in ol]\u001b[0m\n\u001b[0m           ^\u001b[0m\n\u001b[0;31mSyntaxError\u001b[0m\u001b[0;31m:\u001b[0m did you forget parentheses around the comprehension target?\n"
          ]
        }
      ],
      "source": [
        "''' try\n",
        "Write a Python program to insert an element before each element of a list.\n",
        "Original List:  ['Red', 'Green', 'Black']\n",
        "expected output =  ['c', 'Red', 'c', 'Green', 'c', 'Black']\n",
        "'''\n",
        "ol=['Red', 'Green', 'Black']\n",
        "def insert_before_each_element(ol, iE):\n",
        "  return[iE, i for i in ol]\n",
        "insertE= \"c\"\n",
        "res = insert_before_each_element(ol, insertE)\n",
        "print(res)\n",
        "'''\n",
        "ol.insert(2,\"c\")\n",
        "print(ol)\n",
        "\n",
        "# Function to insert an element before each element of the list\n",
        "def insert_before_each_element(original_list, element_to_insert):\n",
        "    # Use list comprehension to insert the element before each item\n",
        "    return [element_to_insert, item for item in original_list]\n",
        "\n",
        "# Original List\n",
        "original_list = ['Red', 'Green', 'Black']\n",
        "\n",
        "# Element to insert\n",
        "element_to_insert = 'Blue'\n",
        "\n",
        "# Call the function to insert element before each\n",
        "modified_list = insert_before_each_element(original_list, element_to_insert)\n",
        "\n",
        "# Output the result\n",
        "print(\"Original List:\", original_list)\n",
        "print(\"Modified List:\", modified_list)\n",
        "'''"
      ]
    },
    {
      "cell_type": "code",
      "execution_count": null,
      "metadata": {
        "id": "LM1IzY4i3c08"
      },
      "outputs": [],
      "source": [
        "'''\n",
        "14. Write a Python program to move all zero digits to the end of a given list of numbers. Go to the editor\n",
        "Expected output:\n",
        "Original list:\n",
        "[3, 4, 0, 0, 0, 6, 2, 0, 6, 7, 6, 0, 0, 0, 9, 10, 7, 4, 4, 5, 3, 0, 0, 2, 9, 7, 1]\n",
        "Move all zero digits to end of the said list of numbers:\n",
        "[3, 4, 6, 2, 6, 7, 6, 9, 10, 7, 4, 4, 5, 3, 2, 9, 7, 1, 0, 0, 0, 0, 0, 0, 0, 0, 0]\n",
        "'''"
      ]
    },
    {
      "cell_type": "code",
      "execution_count": null,
      "metadata": {
        "id": "Vr1M_KSi3w6N"
      },
      "outputs": [],
      "source": [
        "'''\n",
        "15. Write a Python program to remove duplicates from a list of lists. Go to the editor\n",
        "Sample list : [[10, 20], [40], [30, 56, 25], [10, 20], [33], [40]]\n",
        "expected output : [[10, 20], [30, 56, 25], [33], [40]]\n",
        "'''"
      ]
    },
    {
      "cell_type": "code",
      "execution_count": 77,
      "metadata": {
        "id": "Eh80uE4d3--T",
        "colab": {
          "base_uri": "https://localhost:8080/"
        },
        "outputId": "daa77a1e-ec45-4a34-c2e0-1a03b96b6e2d"
      },
      "outputs": [
        {
          "output_type": "stream",
          "name": "stdout",
          "text": [
            "[[0, 0], [1], [2], [3], [4, 4], [5], [6, 6, 6], [7], [8], [9], [4, 4]]\n"
          ]
        }
      ],
      "source": [
        "# Assignment 1\n",
        "''' Write a Python program to pack consecutive duplicates of a given list of elements into sublists. Go to the editor\n",
        "Original list:\n",
        "[0, 0, 1, 2, 3, 4, 4, 5, 6, 6, 6, 7, 8, 9, 4, 4]\n",
        "After packing consecutive duplicates of the said list elements into sublists:\n",
        "[[0, 0], [1], [2], [3], [4, 4], [5], [6, 6, 6], [7], [8], [9], [4, 4]]\n",
        "\n",
        "pl packed_list, sl sublist, ol original list'''\n",
        "\n",
        "ol = [0, 0, 1, 2, 3, 4, 4, 5, 6, 6, 6, 7, 8, 9, 4, 4]\n",
        "\n",
        "def joinduplicates(o1):\n",
        "  if not o1:\n",
        "    return[]\n",
        "  pl=[]\n",
        "  sl=[ol[0]]\n",
        "\n",
        "  for i in range(1, len(ol)):\n",
        "    if ol[i] == ol[i-1]:\n",
        "      sl.append(ol[i])\n",
        "    else:\n",
        "      pl.append(sl)\n",
        "      sl=[ol[i]]\n",
        "  pl.append(sl)\n",
        "  return pl\n",
        "fl = joinduplicates(ol)\n",
        "print(fl)\n"
      ]
    },
    {
      "cell_type": "code",
      "execution_count": 91,
      "metadata": {
        "id": "htK9WDMU4Hjz",
        "colab": {
          "base_uri": "https://localhost:8080/"
        },
        "outputId": "18f568b8-78e8-40b1-eb39-e7e335754570"
      },
      "outputs": [
        {
          "output_type": "stream",
          "name": "stdout",
          "text": [
            "[1, 1, 2, 3, 4, 4, 4, 5, 1]\n"
          ]
        }
      ],
      "source": [
        "# Assignment 2\n",
        "'''\n",
        "Write a Python program to decode a run-length message. Go to the editor\n",
        "Original encoded list:\n",
        "[[2, 1], 2, 3, [3, 4], 5, 1]\n",
        "Decode a run-length encoded said list:\n",
        "[1, 1, 2, 3, 4, 4, 5, 1]\n",
        "'''\n",
        "encoded_list = [[2, 1], 2, 3, [3, 4], 5, 1]\n",
        "\n",
        "def decode_run_length(encoded):\n",
        "    decoded = []\n",
        "    for i in encoded:\n",
        "        if isinstance(i, list):\n",
        "            decoded.extend([i[1]] * i[0])\n",
        "        else:\n",
        "            decoded.append(i)\n",
        "    return decoded\n",
        "\n",
        "decoded_message = decode_run_length(encoded_list)\n",
        "\n",
        "print( decoded_message)\n",
        "\n"
      ]
    },
    {
      "cell_type": "code",
      "source": [
        "encoded_list = [[2, 1], 2, 3, [3, 4], 5, 1]\n",
        "print(encoded_list[0]* encoded_list[1])"
      ],
      "metadata": {
        "colab": {
          "base_uri": "https://localhost:8080/"
        },
        "id": "RSn_tmEtD-Kk",
        "outputId": "b1768798-595e-45e7-d2e1-dcf66aa9a9dd"
      },
      "execution_count": 89,
      "outputs": [
        {
          "output_type": "stream",
          "name": "stdout",
          "text": [
            "[2, 1, 2, 1]\n"
          ]
        }
      ]
    },
    {
      "cell_type": "code",
      "execution_count": 9,
      "metadata": {
        "id": "KxLNu6WU4l-X",
        "colab": {
          "base_uri": "https://localhost:8080/"
        },
        "outputId": "f8d69ad7-d0d2-4eec-a4f0-079ed7598597"
      },
      "outputs": [
        {
          "output_type": "stream",
          "name": "stdout",
          "text": [
            "Original list1: [[0], [1, 3], [5, 7], [9, 11], [13, 15, 17]]\n",
            "List with maximum length: (3, [13, 15, 17])\n",
            "List with minimum length: (1, [0])\n",
            "Original list2: [[0], [1, 3], [5, 7], [9, 11], [3, 5, 7]]\n",
            "List with maximum length: (3, [3, 5, 7])\n",
            "List with minimum length: (1, [0])\n",
            "Original list3: [[12], [1, 3], [1, 34, 5, 7], [9, 11], [3, 5, 7]]\n",
            "List with maximum length: (4, [1, 34, 5, 7])\n",
            "List with minimum length: (1, [12])\n"
          ]
        }
      ],
      "source": [
        "#Assignment 3\n",
        "'''\n",
        " Write a Python program to find a list with maximum and minimum lengths. Go to the editor\n",
        "Original list:\n",
        "[[0], [1, 3], [5, 7], [9, 11], [13, 15, 17]]\n",
        "List with maximum length of lists:\n",
        "(3, [13, 15, 17])\n",
        "List with minimum length of lists:\n",
        "(1, [0])\n",
        "Original list:\n",
        "[[0], [1, 3], [5, 7], [9, 11], [3, 5, 7]]\n",
        "List with maximum length of lists:\n",
        "(3, [3, 5, 7])\n",
        "List with minimum length of lists:\n",
        "(1, [0])\n",
        "Original list:\n",
        "[[12], [1, 3], [1, 34, 5, 7], [9, 11], [3, 5, 7]]\n",
        "List with maximum length of lists:\n",
        "(4, [1, 34, 5, 7])\n",
        "List with minimum length of lists:\n",
        "(1, [12])\n",
        "\n",
        "'''\n",
        "def maxminlenth(findlist):\n",
        "  maxlist=max(findlist, key=len)\n",
        "  minlist=min(findlist, key=len)\n",
        "  return maxlist, minlist\n",
        "maxlist, minlist= maxminlenth(list1)\n",
        "maxlist2, minlist2= maxminlenth(list2)\n",
        "maxlist3, minlist3= maxminlenth(list3)\n",
        "res1=(maxminlenth(list1))\n",
        "res2=(maxminlenth(list2))\n",
        "res3=(maxminlenth(list3))\n",
        "\n",
        "list1=[[0], [1, 3], [5, 7], [9, 11], [13, 15, 17]]\n",
        "print(\"Original list1:\", list1)\n",
        "print(\"List with maximum length:\", (len(maxlist), maxlist))\n",
        "print(\"List with minimum length:\", (len(minlist), minlist))\n",
        "\n",
        "list2=[[0], [1, 3], [5, 7], [9, 11], [3, 5, 7]]\n",
        "print(\"Original list2:\", list2)\n",
        "print(\"List with maximum length:\", (len(maxlist2), maxlist2))\n",
        "print(\"List with minimum length:\", (len(minlist2), minlist2))\n",
        "list3=[[12], [1, 3], [1, 34, 5, 7], [9, 11], [3, 5, 7]]\n",
        "\n",
        "print(\"Original list3:\", list3)\n",
        "print(\"List with maximum length:\", (len(maxlist3), maxlist3))\n",
        "print(\"List with minimum length:\", (len(minlist3), minlist3))\n"
      ]
    }
  ],
  "metadata": {
    "colab": {
      "provenance": [],
      "include_colab_link": true
    },
    "kernelspec": {
      "display_name": "Python 3",
      "name": "python3"
    },
    "language_info": {
      "name": "python"
    }
  },
  "nbformat": 4,
  "nbformat_minor": 0
}