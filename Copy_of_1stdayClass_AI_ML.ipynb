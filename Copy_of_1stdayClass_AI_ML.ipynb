{
  "nbformat": 4,
  "nbformat_minor": 0,
  "metadata": {
    "colab": {
      "provenance": [],
      "authorship_tag": "ABX9TyP+bYUbidplJ/VATjnCcgBd",
      "include_colab_link": true
    },
    "kernelspec": {
      "name": "python3",
      "display_name": "Python 3"
    },
    "language_info": {
      "name": "python"
    }
  },
  "cells": [
    {
      "cell_type": "markdown",
      "metadata": {
        "id": "view-in-github",
        "colab_type": "text"
      },
      "source": [
        "<a href=\"https://colab.research.google.com/github/Karthiharaj/python_fundamental/blob/main/Copy_of_1stdayClass_AI_ML.ipynb\" target=\"_parent\"><img src=\"https://colab.research.google.com/assets/colab-badge.svg\" alt=\"Open In Colab\"/></a>"
      ]
    },
    {
      "cell_type": "code",
      "execution_count": null,
      "metadata": {
        "id": "MSsWQqxZ7LEN",
        "colab": {
          "base_uri": "https://localhost:8080/"
        },
        "outputId": "1f9200c2-7af5-4497-9e81-0f089ea9669d"
      },
      "outputs": [
        {
          "output_type": "stream",
          "name": "stdout",
          "text": [
            "80\n"
          ]
        }
      ],
      "source": [
        "#3 largest number in the list\n",
        "list1 = [1, 2, -8, 0, 80]\n",
        "a=max(list1)\n",
        "print(a)"
      ]
    },
    {
      "cell_type": "code",
      "source": [
        "# 7 remove duplicate\n",
        "a = [100, 20, 30, 20, 10, 50, 60, 40, 80, 50, 40, 80]\n",
        "duplicate = list(set(a))\n",
        "list.sort(duplicate)\n",
        "print (duplicate)\n"
      ],
      "metadata": {
        "colab": {
          "base_uri": "https://localhost:8080/"
        },
        "id": "skhMRlBU8bww",
        "outputId": "fa97b96f-be70-439b-b20b-30212a85b4ec"
      },
      "execution_count": null,
      "outputs": [
        {
          "output_type": "stream",
          "name": "stdout",
          "text": [
            "[10, 20, 30, 40, 50, 60, 80, 100]\n"
          ]
        }
      ]
    },
    {
      "cell_type": "code",
      "source": [
        "my_list = [10,20,30,40,20,50,60,40]\n",
        "print(set(my_list))\n"
      ],
      "metadata": {
        "colab": {
          "base_uri": "https://localhost:8080/"
        },
        "id": "bNZod_zs_HlI",
        "outputId": "4e6e8e99-0d6c-4266-e0ae-e7c5177723ca"
      },
      "execution_count": null,
      "outputs": [
        {
          "output_type": "stream",
          "name": "stdout",
          "text": [
            "{40, 10, 50, 20, 60, 30}\n"
          ]
        }
      ]
    },
    {
      "cell_type": "code",
      "source": [
        "list1 = [10,20,30,40,20,50,60,40,10,10]\n",
        "print(list1.count(\"list1\"))"
      ],
      "metadata": {
        "colab": {
          "base_uri": "https://localhost:8080/"
        },
        "id": "A_b7-9HIAT0v",
        "outputId": "777e9706-4574-40c9-e7d6-19d739ee4bb9"
      },
      "execution_count": null,
      "outputs": [
        {
          "output_type": "stream",
          "name": "stdout",
          "text": [
            "0\n"
          ]
        }
      ]
    },
    {
      "cell_type": "code",
      "source": [
        "list1 = [1,2,3,5,4]\n",
        "list2 = [5,6,7,8,2]\n",
        "\n",
        "for i in list1:\n",
        "  if i in list2:\n",
        "    i==i\n",
        "    print(i)"
      ],
      "metadata": {
        "colab": {
          "base_uri": "https://localhost:8080/"
        },
        "id": "vuM15teZA5-7",
        "outputId": "0d84cdc9-ef33-4c75-fd55-5ed7955f7b29"
      },
      "execution_count": null,
      "outputs": [
        {
          "output_type": "stream",
          "name": "stdout",
          "text": [
            "2\n",
            "5\n"
          ]
        }
      ]
    },
    {
      "cell_type": "code",
      "source": [
        "txt = \"The best things in life are free!\"\n",
        "\n",
        "if \"expensive\" in txt:\n",
        "  print(\"yes, 'expensive' is YES present.\")\n",
        "else:\n",
        "    print(\"No, 'expensive' is NOT present.\")"
      ],
      "metadata": {
        "colab": {
          "base_uri": "https://localhost:8080/"
        },
        "id": "BMupOzBa1p0u",
        "outputId": "cac84e15-b068-40a4-9665-197c4496989c"
      },
      "execution_count": null,
      "outputs": [
        {
          "output_type": "stream",
          "name": "stdout",
          "text": [
            "No, 'expensive' is NOT present.\n"
          ]
        }
      ]
    },
    {
      "cell_type": "code",
      "source": [
        "txt = \"The best things in life are free!\"\n",
        "print(txt[2:8])\n",
        "print(\"best\" in txt, \"best\")"
      ],
      "metadata": {
        "colab": {
          "base_uri": "https://localhost:8080/"
        },
        "id": "vtAw7B4r2xLJ",
        "outputId": "f8886e44-ddf7-457d-e885-adbe7b041243"
      },
      "execution_count": null,
      "outputs": [
        {
          "output_type": "stream",
          "name": "stdout",
          "text": [
            "e best\n",
            "True best\n"
          ]
        }
      ]
    },
    {
      "cell_type": "code",
      "source": [
        "# Function to calculate the square of a number\n",
        "def calculate_square():\n",
        "    try:\n",
        "        number = float(input(\"Enter a number: \"))\n",
        "        square = number ** 2\n",
        "        print(f\"The square of {number} is {square}.\")\n",
        "    except ValueError:\n",
        "        print(\"Invalid input! Please enter a valid number.\")\n",
        "\n",
        "# Call the function\n",
        "calculate_square()\n"
      ],
      "metadata": {
        "colab": {
          "base_uri": "https://localhost:8080/"
        },
        "id": "9xnPX7k1Dlac",
        "outputId": "593b355e-ebff-4000-a0a3-09712d7b1fb8"
      },
      "execution_count": 1,
      "outputs": [
        {
          "output_type": "stream",
          "name": "stdout",
          "text": [
            "Enter a number: 2\n",
            "The square of 2.0 is 4.0.\n"
          ]
        }
      ]
    }
  ]
}