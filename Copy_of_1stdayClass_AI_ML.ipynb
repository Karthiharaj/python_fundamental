{
  "nbformat": 4,
  "nbformat_minor": 0,
  "metadata": {
    "colab": {
      "provenance": [],
      "authorship_tag": "ABX9TyP/bd5hV6QfOLyX1p0M+7Qx",
      "include_colab_link": true
    },
    "kernelspec": {
      "name": "python3",
      "display_name": "Python 3"
    },
    "language_info": {
      "name": "python"
    }
  },
  "cells": [
    {
      "cell_type": "markdown",
      "metadata": {
        "id": "view-in-github",
        "colab_type": "text"
      },
      "source": [
        "<a href=\"https://colab.research.google.com/github/Karthiharaj/python_fundamental/blob/main/Copy_of_1stdayClass_AI_ML.ipynb\" target=\"_parent\"><img src=\"https://colab.research.google.com/assets/colab-badge.svg\" alt=\"Open In Colab\"/></a>"
      ]
    },
    {
      "cell_type": "code",
      "execution_count": null,
      "metadata": {
        "id": "MSsWQqxZ7LEN",
        "colab": {
          "base_uri": "https://localhost:8080/"
        },
        "outputId": "1f9200c2-7af5-4497-9e81-0f089ea9669d"
      },
      "outputs": [
        {
          "output_type": "stream",
          "name": "stdout",
          "text": [
            "80\n"
          ]
        }
      ],
      "source": [
        "#3 largest number in the list\n",
        "list1 = [1, 2, -8, 0, 80]\n",
        "a=max(list1)\n",
        "print(a)"
      ]
    },
    {
      "cell_type": "code",
      "source": [
        "# 7 remove duplicate\n",
        "a = [100, 20, 30, 20, 10, 50, 60, 40, 80, 50, 40, 80]\n",
        "duplicate = list(set(a))\n",
        "list.sort(duplicate)\n",
        "print (duplicate)\n"
      ],
      "metadata": {
        "colab": {
          "base_uri": "https://localhost:8080/"
        },
        "id": "skhMRlBU8bww",
        "outputId": "fa97b96f-be70-439b-b20b-30212a85b4ec"
      },
      "execution_count": null,
      "outputs": [
        {
          "output_type": "stream",
          "name": "stdout",
          "text": [
            "[10, 20, 30, 40, 50, 60, 80, 100]\n"
          ]
        }
      ]
    },
    {
      "cell_type": "code",
      "source": [
        "my_list = [10,20,30,40,20,50,60,40]\n",
        "print(set(my_list))\n"
      ],
      "metadata": {
        "colab": {
          "base_uri": "https://localhost:8080/"
        },
        "id": "bNZod_zs_HlI",
        "outputId": "4e6e8e99-0d6c-4266-e0ae-e7c5177723ca"
      },
      "execution_count": null,
      "outputs": [
        {
          "output_type": "stream",
          "name": "stdout",
          "text": [
            "{40, 10, 50, 20, 60, 30}\n"
          ]
        }
      ]
    },
    {
      "cell_type": "code",
      "source": [
        "list1 = [10,20,30,40,20,50,60,40,10,10]\n",
        "print(list1.count(\"list1\"))"
      ],
      "metadata": {
        "colab": {
          "base_uri": "https://localhost:8080/"
        },
        "id": "A_b7-9HIAT0v",
        "outputId": "777e9706-4574-40c9-e7d6-19d739ee4bb9"
      },
      "execution_count": null,
      "outputs": [
        {
          "output_type": "stream",
          "name": "stdout",
          "text": [
            "0\n"
          ]
        }
      ]
    },
    {
      "cell_type": "code",
      "source": [
        "list1 = [1,2,3,5,4]\n",
        "list2 = [5,6,7,8,2]\n",
        "\n",
        "for i in list1:\n",
        "  if i in list2:\n",
        "    i==i\n",
        "    print(i)"
      ],
      "metadata": {
        "colab": {
          "base_uri": "https://localhost:8080/"
        },
        "id": "vuM15teZA5-7",
        "outputId": "0d84cdc9-ef33-4c75-fd55-5ed7955f7b29"
      },
      "execution_count": null,
      "outputs": [
        {
          "output_type": "stream",
          "name": "stdout",
          "text": [
            "2\n",
            "5\n"
          ]
        }
      ]
    },
    {
      "cell_type": "code",
      "source": [
        "txt = \"The best things in life are free!\"\n",
        "\n",
        "if \"expensive\" in txt:\n",
        "  print(\"yes, 'expensive' is YES present.\")\n",
        "else:\n",
        "    print(\"No, 'expensive' is NOT present.\")"
      ],
      "metadata": {
        "colab": {
          "base_uri": "https://localhost:8080/"
        },
        "id": "BMupOzBa1p0u",
        "outputId": "cac84e15-b068-40a4-9665-197c4496989c"
      },
      "execution_count": null,
      "outputs": [
        {
          "output_type": "stream",
          "name": "stdout",
          "text": [
            "No, 'expensive' is NOT present.\n"
          ]
        }
      ]
    },
    {
      "cell_type": "code",
      "source": [
        "txt = \"The best things in life are free!\"\n",
        "print(txt[2:8])\n",
        "print(\"best\" in txt, \"best\")"
      ],
      "metadata": {
        "colab": {
          "base_uri": "https://localhost:8080/"
        },
        "id": "vtAw7B4r2xLJ",
        "outputId": "f8886e44-ddf7-457d-e885-adbe7b041243"
      },
      "execution_count": null,
      "outputs": [
        {
          "output_type": "stream",
          "name": "stdout",
          "text": [
            "e best\n",
            "True best\n"
          ]
        }
      ]
    },
    {
      "cell_type": "code",
      "source": [
        "# Function to calculate the square of a number\n",
        "def calculate_square():\n",
        "    try:\n",
        "        number = float(input(\"Enter a number: \"))\n",
        "        square = number ** 2\n",
        "        print(f\"The square of {number} is {square}.\")\n",
        "    except ValueError:\n",
        "        print(\"Invalid input! Please enter a valid number.\")\n",
        "\n",
        "# Call the function\n",
        "calculate_square()\n"
      ],
      "metadata": {
        "colab": {
          "base_uri": "https://localhost:8080/"
        },
        "id": "9xnPX7k1Dlac",
        "outputId": "e6c8b343-2b37-4f99-c8e7-7f6de4a95757"
      },
      "execution_count": 4,
      "outputs": [
        {
          "output_type": "stream",
          "name": "stdout",
          "text": [
            "Enter a number: 11\n",
            "The square of 11.0 is 121.0.\n"
          ]
        }
      ]
    },
    {
      "cell_type": "code",
      "source": [
        "# Simple To-Do List Application\n",
        "def display_menu():\n",
        "    print(\"\\nTo-Do List Menu:\")\n",
        "    print(\"1. View To-Do List\")\n",
        "    print(\"2. Add Task\")\n",
        "    print(\"3. Mark Task as Completed\")\n",
        "    print(\"4. Delete Task\")\n",
        "    print(\"5. Exit\")\n",
        "\n",
        "def view_tasks(tasks):\n",
        "    if tasks:\n",
        "        print(\"\\nYour To-Do List:\")\n",
        "        for idx, (task, completed) in enumerate(tasks, start=1):\n",
        "            status = \"✓\" if completed else \"✗\"\n",
        "            print(f\"{idx}. {task} [{status}]\")\n",
        "    else:\n",
        "        print(\"\\nYour To-Do List is empty!\")\n",
        "\n",
        "def add_task(tasks):\n",
        "    task = input(\"Enter the task to add: \")\n",
        "    tasks.append((task, False))\n",
        "    print(f\"Task '{task}' added to the list.\")\n",
        "\n",
        "def mark_task_completed(tasks):\n",
        "    if not tasks:\n",
        "        print(\"\\nYour To-Do List is empty!\")\n",
        "        return\n",
        "    try:\n",
        "        task_num = int(input(\"Enter the task number to mark as completed: \"))\n",
        "        if 1 <= task_num <= len(tasks):\n",
        "            task, _ = tasks[task_num - 1]\n",
        "            tasks[task_num - 1] = (task, True)\n",
        "            print(f\"Task '{task}' marked as completed.\")\n",
        "        else:\n",
        "            print(\"Invalid task number!\")\n",
        "    except ValueError:\n",
        "        print(\"Invalid input! Please enter a valid task number.\")\n",
        "\n",
        "def delete_task(tasks):\n",
        "    if not tasks:\n",
        "        print(\"\\nYour To-Do List is empty!\")\n",
        "        return\n",
        "    try:\n",
        "        task_num = int(input(\"Enter the task number to delete: \"))\n",
        "        if 1 <= task_num <= len(tasks):\n",
        "            task, _ = tasks.pop(task_num - 1)\n",
        "            print(f\"Task '{task}' deleted from the list.\")\n",
        "        else:\n",
        "            print(\"Invalid task number!\")\n",
        "    except ValueError:\n",
        "        print(\"Invalid input! Please enter a valid task number.\")\n",
        "\n",
        "def main():\n",
        "    tasks = []\n",
        "    while True:\n",
        "        display_menu()\n",
        "        try:\n",
        "            choice = int(input(\"\\nEnter your choice (1-5): \"))\n",
        "            if choice == 1:\n",
        "                view_tasks(tasks)\n",
        "            elif choice == 2:\n",
        "                add_task(tasks)\n",
        "            elif choice == 3:\n",
        "                mark_task_completed(tasks)\n",
        "            elif choice == 4:\n",
        "                delete_task(tasks)\n",
        "            elif choice == 5:\n",
        "                print(\"Exiting the To-Do List application. Goodbye!\")\n",
        "                break\n",
        "            else:\n",
        "                print(\"Invalid choice! Please select a valid option.\")\n",
        "        except ValueError:\n",
        "            print(\"Invalid input! Please enter a number between 1 and 5.\")\n",
        "\n",
        "# Run the To-Do List program\n",
        "if __name__ == \"__main__\":\n",
        "    main()\n"
      ],
      "metadata": {
        "id": "_31GA2qBn0f6"
      },
      "execution_count": null,
      "outputs": []
    },
    {
      "cell_type": "code",
      "source": [
        "a=input(\"enter name:\")\n",
        "b=input(\"enter age:\")\n",
        "prtint=(f\"Myname is{a} and My age is {b}\")"
      ],
      "metadata": {
        "colab": {
          "base_uri": "https://localhost:8080/"
        },
        "id": "8Fe755TGOkpO",
        "outputId": "c9c6663f-361d-4611-8cc8-eead678846f4"
      },
      "execution_count": 2,
      "outputs": [
        {
          "name": "stdout",
          "output_type": "stream",
          "text": [
            "enter name:karthi\n",
            "enter age:29\n"
          ]
        }
      ]
    }
  ]
}